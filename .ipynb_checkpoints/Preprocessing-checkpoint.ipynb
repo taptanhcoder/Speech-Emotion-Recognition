{
 "cells": [
  {
   "cell_type": "markdown",
   "metadata": {},
   "source": [
    "# Necessary library"
   ]
  },
  {
   "cell_type": "code",
   "execution_count": null,
   "metadata": {},
   "outputs": [
    {
     "ename": "",
     "evalue": "",
     "output_type": "error",
     "traceback": [
      "\u001b[1;31mThe kernel failed to start as a dll could not be loaded.\n",
      "\u001b[1;31mClick <a href='https://aka.ms/kernelFailuresDllLoad'>here</a> for more info."
     ]
    }
   ],
   "source": [
    "import pandas as pd\n",
    "import numpy as np\n",
    "\n",
    "import os\n",
    "import sys\n",
    "\n",
    "import librosa\n",
    "import librosa.display\n",
    "import seaborn as sns\n",
    "import matplotlib.pyplot as plt\n",
    "\n",
    "from sklearn.preprocessing import StandardScaler, OneHotEncoder\n",
    "from sklearn.metrics import confusion_matrix, classification_report\n",
    "from sklearn.model_selection import train_test_split\n",
    "\n",
    "# to play the audio files\n",
    "from IPython.display import Audio\n",
    "\n",
    "\n",
    "import keras\n",
    "import tensorflow\n",
    "from keras.callbacks import ReduceLROnPlateau, ModelCheckpoint                        \n",
    "from keras.models import Sequential\n",
    "from keras.layers import Dense, Conv1D, MaxPooling1D, Flatten, Dropout, BatchNormalization\n",
    "from keras.utils import to_categorical  "
   ]
  },
  {
   "cell_type": "markdown",
   "metadata": {},
   "source": [
    "# Data Preparation"
   ]
  },
  {
   "cell_type": "code",
   "execution_count": null,
   "metadata": {},
   "outputs": [],
   "source": [
    "from pathlib import Path\n",
    "from pydub import AudioSegment\n",
    "from concurrent.futures import ThreadPoolExecutor\n",
    "from pydub.utils import which\n",
    "\n",
    "# Kiểm tra FFmpeg\n",
    "if not which(\"ffmpeg\"):\n",
    "    raise EnvironmentError(\"FFmpeg không được tìm thấy. Hãy cài đặt FFmpeg và kiểm tra lại!\")\n",
    "\n",
    "# Hàm chuyển đổi một file từ .webm sang .wav\n",
    "def convert_to_wav(file: Path, output_dir: Path) -> str:\n",
    "    try:\n",
    "        print(f\"Đang xử lý file: {file.name}\")\n",
    "        # Kiểm tra file tồn tại\n",
    "        if not file.exists():\n",
    "            return f\"File không tồn tại: {file.name}\"\n",
    "        \n",
    "        # Đọc file .webm và chuyển đổi\n",
    "        audio = AudioSegment.from_file(file, format=\"webm\")\n",
    "        output_file = output_dir / f\"{file.stem}.wav\"\n",
    "        audio.export(output_file, format=\"wav\")\n",
    "        \n",
    "        # Kiểm tra file đầu ra\n",
    "        if output_file.exists():\n",
    "            return f\"Chuyển đổi thành công: {file.name} -> {output_file.name}\"\n",
    "        else:\n",
    "            return f\"Lỗi: Không thể tạo file đầu ra cho {file.name}\"\n",
    "    except Exception as e:\n",
    "        return f\"Lỗi khi xử lý file {file.name}: {e}\"\n",
    "\n",
    "def main():\n",
    "    # Đường dẫn đến thư mục chứa file .webm\n",
    "    input_dir = Path('Dataset/cleaned_webm')\n",
    "    audio_files = list(input_dir.glob('*.webm'))\n",
    "\n",
    "    if not audio_files:\n",
    "        print(\"Không tìm thấy file .webm nào trong thư mục!\")\n",
    "        return\n",
    "    \n",
    "    # Thư mục đích để lưu file .wav\n",
    "    output_dir = Path('Dataset/converted_wav')\n",
    "    output_dir.mkdir(parents=True, exist_ok=True)\n",
    "\n",
    "    # Sử dụng ThreadPoolExecutor để xử lý song song\n",
    "    print(\"Bắt đầu chuyển đổi file...\")\n",
    "    with ThreadPoolExecutor() as executor:\n",
    "        results = executor.map(convert_to_wav, audio_files, [output_dir] * len(audio_files))\n",
    "    \n",
    "    # Hiển thị kết quả\n",
    "    for result in results:\n",
    "        print(result)\n",
    "\n",
    "if __name__ == \"__main__\":\n",
    "    main()\n"
   ]
  },
  {
   "cell_type": "code",
   "execution_count": null,
   "metadata": {},
   "outputs": [],
   "source": [
    "audio_data"
   ]
  },
  {
   "cell_type": "code",
   "execution_count": 98,
   "metadata": {},
   "outputs": [],
   "source": [
    "lable_file = pd.read_csv('Dataset/metadata.csv', delimiter='|')\n"
   ]
  },
  {
   "cell_type": "code",
   "execution_count": null,
   "metadata": {},
   "outputs": [],
   "source": [
    "lable_file"
   ]
  },
  {
   "cell_type": "code",
   "execution_count": 100,
   "metadata": {},
   "outputs": [],
   "source": [
    "lable=lable_file[['audio_recording','emotion']]"
   ]
  },
  {
   "cell_type": "code",
   "execution_count": null,
   "metadata": {},
   "outputs": [],
   "source": [
    "lable"
   ]
  },
  {
   "cell_type": "code",
   "execution_count": null,
   "metadata": {},
   "outputs": [],
   "source": [
    "lable['audio_recording'] = lable['audio_recording'].apply(lambda x: x.split('/')[-1])"
   ]
  },
  {
   "cell_type": "code",
   "execution_count": 103,
   "metadata": {},
   "outputs": [],
   "source": [
    "matched_labels = lable[lable['audio_recording'].isin(audio_data)]\n"
   ]
  },
  {
   "cell_type": "code",
   "execution_count": null,
   "metadata": {},
   "outputs": [],
   "source": [
    "matched_labels "
   ]
  },
  {
   "cell_type": "code",
   "execution_count": 107,
   "metadata": {},
   "outputs": [],
   "source": [
    "audio_df = pd.DataFrame(audio_data, columns=['audio_recording'])"
   ]
  },
  {
   "cell_type": "code",
   "execution_count": null,
   "metadata": {},
   "outputs": [],
   "source": [
    "merged_df = audio_df.merge(matched_labels , on='audio_recording', how='left')"
   ]
  },
  {
   "cell_type": "code",
   "execution_count": null,
   "metadata": {},
   "outputs": [],
   "source": [
    "merged_df"
   ]
  },
  {
   "cell_type": "code",
   "execution_count": null,
   "metadata": {},
   "outputs": [],
   "source": [
    "from IPython.display import Audio, display\n",
    "\n",
    "# Đường dẫn đến file audio\n",
    "file_path = 'recorded_audio.webm'\n",
    "\n",
    "# Hiển thị trình phát âm thanh\n",
    "display(Audio(file_path))\n"
   ]
  }
 ],
 "metadata": {
  "kernelspec": {
   "display_name": ".conda",
   "language": "python",
   "name": "python3"
  },
  "language_info": {
   "codemirror_mode": {
    "name": "ipython",
    "version": 3
   },
   "file_extension": ".py",
   "mimetype": "text/x-python",
   "name": "python",
   "nbconvert_exporter": "python",
   "pygments_lexer": "ipython3",
   "version": "3.12.8"
  }
 },
 "nbformat": 4,
 "nbformat_minor": 2
}
